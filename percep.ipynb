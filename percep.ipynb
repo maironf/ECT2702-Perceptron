{
  "nbformat": 4,
  "nbformat_minor": 0,
  "metadata": {
    "colab": {
      "name": "percep.ipynb",
      "provenance": []
    },
    "kernelspec": {
      "name": "python3",
      "display_name": "Python 3"
    }
  },
  "cells": [
    {
      "cell_type": "markdown",
      "metadata": {
        "id": "OEgSayQNBuaZ"
      },
      "source": [
        "# Perceptron \n",
        "\n",
        "Verificar se o ser vivo é  quadrupede de ou bípede\n",
        "\n",
        "•Suposições quanto ao resultadoQuadrúpede = 1           \n",
        "Bípede = -1\n",
        "\n",
        "|       Ser Servivo |Vetor                |  Resultado esperado|\n",
        "|----------|---------------------|--------------------|\n",
        "|Cão      |[ 1 -1 1  1 ]        |                   1|\n",
        "|Gato     |[ 1 1  1  1 ]        |                   1|\n",
        "|Cavalo   |[ 1 1 -1  1 ]        |                   1|\n",
        "|Homem    |[-1 -1-1  1 ]        |                  -1|\n",
        "|Galinha  |[-1 1 -1  1 ]        |                  -1|\n",
        "|Avestruz |[ 1-1  1 -1 ]        |                  -1|"
      ]
    },
    {
      "cell_type": "code",
      "metadata": {
        "id": "1Ido53gjUaie"
      },
      "source": [
        "# Dados iniciais\n",
        "import numpy as np \n",
        "# Base de dados\n",
        "\n",
        "# Classe 1 \n",
        "sv1 = np.array( [1,-1,1,1] )\n",
        "sv2 = np.array( [1,1,1,1] )\n",
        "sv3 = np.array( [1,1,1,1] )\n",
        "\n",
        "# Classe -1\n",
        "sv4 = np.array( [-1,-1,-1,1] )\n",
        "sv5 = np.array( [-1,1,-1,1] )\n",
        "sv6 = np.array( [1,-1, 1,-1] )\n",
        "\n",
        "# Pesos iniciais \n",
        "Pesos = np.array( [0, 0, 0,0] )\n",
        "\n",
        "# Taxa de aprendizagem\n",
        "eta = 0.4 \n",
        "# Viés \n",
        "bias = 0.5  "
      ],
      "execution_count": null,
      "outputs": []
    },
    {
      "cell_type": "code",
      "metadata": {
        "id": "t4fKfn8lU7Ja"
      },
      "source": [
        "# Função para a soma ponderada \n",
        "# u = x0*w0 +  x1*w1 + x2*w2 -1*θ \n",
        "# m = x0*w0 +  x1*w1 + x2*w2\n",
        "# u = m -1*θ\n",
        "def somaPonderada(X,W):\n",
        "  bias = 0.5 \n",
        "  m = np.multiply(X,W)\n",
        "  u = np.sum(m) -1*bias\n",
        "  return u "
      ],
      "execution_count": null,
      "outputs": []
    },
    {
      "cell_type": "code",
      "metadata": {
        "id": "w7WOi5KzXkgd"
      },
      "source": [
        "# Função de ativação \n",
        "# Função Degrau \n",
        "def funcaoAtivacao(u):\n",
        "  if u >= 0:\n",
        "    return 1\n",
        "  else:\n",
        "    return -1"
      ],
      "execution_count": null,
      "outputs": []
    },
    {
      "cell_type": "code",
      "metadata": {
        "id": "Lh67wy0zbO2-"
      },
      "source": [
        "# Função de saída \n",
        "def saida(X,W):\n",
        "  u = somaPonderada(X,W)\n",
        "  return funcaoAtivacao(u) \n"
      ],
      "execution_count": null,
      "outputs": []
    },
    {
      "cell_type": "code",
      "metadata": {
        "id": "6iWXanLKX_On"
      },
      "source": [
        "# Função para ajustes dos pesos\n",
        "# Parte cententral do processo de aprendizagem \n",
        "# novo wi  →  wi = wi +  η xi (d - y ) \n",
        "def ajustaPesos(eta,W,X,bias,d,y):\n",
        "  e = d - y \n",
        "  novoW = W + eta*X*e\n",
        "  novoB = bias + eta*(-1)*e \n",
        "  return novoW, novoB  \n"
      ],
      "execution_count": null,
      "outputs": []
    },
    {
      "cell_type": "markdown",
      "metadata": {
        "id": "qA-B_GxjapSI"
      },
      "source": [
        "# Treinamento \n",
        "* Realizado manualmente para ilustrar o processo \n",
        "* Aprsenta uma entrada e calcula a saída de maneira iterativa "
      ]
    },
    {
      "cell_type": "markdown",
      "metadata": {
        "id": "aXMmJejqd6RZ"
      },
      "source": [
        "## Iteração 1"
      ]
    },
    {
      "cell_type": "code",
      "metadata": {
        "id": "Ly-ULZCTaYSu",
        "colab": {
          "base_uri": "https://localhost:8080/"
        },
        "outputId": "3e2c140a-3644-441b-c944-f4bffa73712a"
      },
      "source": [
        "# ser vivo 1 -> 1 \n",
        "d = 1 \n",
        "sv1 = saida(sv1,Pesos) \n",
        "print(y)\n",
        "# Ajuste dos pesos \n",
        "Pesos,bias = ajustaPesos(eta,Pesos,sv1,bias,d,y) \n",
        "print(Pesos)\n",
        "print(bias)  \n",
        "\n",
        "# ser vivo 2 -> 1 \n",
        "d = 1 \n",
        "sv1 = saida(sv2,Pesos) \n",
        "print(y)\n",
        "# Ajuste dos pesos \n",
        "Pesos,bias = ajustaPesos(eta,Pesos,sv2,bias,d,y) \n",
        "print(Pesos)\n",
        "print(bias)\n",
        "\n",
        "# ser vivo 3 -> 1 \n",
        "d = 1 \n",
        "sv1 = saida(sv3,Pesos) \n",
        "print(y)\n",
        "# Ajuste dos pesos \n",
        "Pesos,bias = ajustaPesos(eta,Pesos,sv3,bias,d,y) \n",
        "print(Pesos)\n",
        "print(bias) \n",
        "\n",
        "# ser vivo 4 -> -1 \n",
        "d = -1 \n",
        "sv1 = saida(sv4,Pesos) \n",
        "print(y)\n",
        "# Ajuste dos pesos \n",
        "Pesos,bias = ajustaPesos(eta,Pesos,sv4,bias,d,y) \n",
        "print(Pesos)\n",
        "print(bias) \n",
        "\n",
        "# ser vivo 5 -> -1 \n",
        "d = -1 \n",
        "sv1 = saida(sv5,Pesos) \n",
        "print(y)\n",
        "# Ajuste dos pesos \n",
        "Pesos,bias = ajustaPesos(eta,Pesos,sv5,bias,d,y) \n",
        "print(Pesos)\n",
        "print(bias)\n",
        "\n",
        "# ser vivo 6 -> -1 \n",
        "d = -1 \n",
        "sv1 = saida(sv6,Pesos) \n",
        "print(y)\n",
        "# Ajuste dos pesos \n",
        "Pesos,bias = ajustaPesos(eta,Pesos,sv6,bias,d,y) \n",
        "print(Pesos)\n",
        "print(bias)\n",
        "\n"
      ],
      "execution_count": null,
      "outputs": [
        {
          "output_type": "stream",
          "text": [
            "1\n",
            "[6.4 6.4 6.4 3.2]\n",
            "10.100000000000001\n",
            "1\n",
            "[6.4 6.4 6.4 3.2]\n",
            "10.100000000000001\n",
            "1\n",
            "[6.4 6.4 6.4 3.2]\n",
            "10.100000000000001\n",
            "1\n",
            "[7.2 7.2 7.2 2.4]\n",
            "10.900000000000002\n",
            "1\n",
            "[8.  6.4 8.  1.6]\n",
            "11.700000000000003\n",
            "1\n",
            "[7.2 7.2 7.2 2.4]\n",
            "12.500000000000004\n"
          ],
          "name": "stdout"
        }
      ]
    },
    {
      "cell_type": "markdown",
      "metadata": {
        "id": "iFIJNW0cdzVl"
      },
      "source": [
        "## Iteração 2"
      ]
    },
    {
      "cell_type": "code",
      "metadata": {
        "id": "EKpFRtmwdxD_",
        "colab": {
          "base_uri": "https://localhost:8080/"
        },
        "outputId": "bf385fe7-00c7-4bf4-cb09-45fbf0a2d786"
      },
      "source": [
        "# ser vivo 1 -> 1 \n",
        "d = 1 \n",
        "sv1 = saida(sv1,Pesos) \n",
        "print(y)\n",
        "# Ajuste dos pesos \n",
        "Pesos,bias = ajustaPesos(eta,Pesos,sv1,bias,d,y) \n",
        "print(Pesos)\n",
        "print(bias) \n",
        "\n",
        "# ser vivo 2 -> 1 \n",
        "d = 1 \n",
        "sv1 = saida(sv2,Pesos) \n",
        "print(y)\n",
        "# Ajuste dos pesos \n",
        "Pesos,bias = ajustaPesos(eta,Pesos,sv2,bias,d,y) \n",
        "print(Pesos)\n",
        "print(bias)\n",
        "\n",
        "# ser vivo 3 -> 1 \n",
        "d = 1 \n",
        "sv1 = saida(sv3,Pesos) \n",
        "print(y)\n",
        "# Ajuste dos pesos \n",
        "Pesos,bias = ajustaPesos(eta,Pesos,sv3,bias,d,y) \n",
        "print(Pesos)\n",
        "print(bias) \n",
        "\n",
        "\n",
        "# ser vivo 4 -> -1 \n",
        "d = -1 \n",
        "sv1 = saida(sv4,Pesos) \n",
        "print(y)\n",
        "# Ajuste dos pesos \n",
        "Pesos,bias = ajustaPesos(eta,Pesos,sv4,bias,d,y) \n",
        "print(Pesos)\n",
        "print(bias) \n",
        "\n",
        "# ser vivo 5 -> -1 \n",
        "d = -1 \n",
        "sv1 = saida(sv5,Pesos) \n",
        "print(y)\n",
        "# Ajuste dos pesos \n",
        "Pesos,bias = ajustaPesos(eta,Pesos,sv5,bias,d,y) \n",
        "print(Pesos)\n",
        "print(bias)\n",
        "\n",
        "# ser vivo 6 -> -1 \n",
        "d = -1 \n",
        "sv1 = saida(sv6,Pesos) \n",
        "print(y)\n",
        "# Ajuste dos pesos \n",
        "Pesos,bias = ajustaPesos(eta,Pesos,sv6,bias,d,y) \n",
        "print(Pesos)\n",
        "print(bias)"
      ],
      "execution_count": null,
      "outputs": [
        {
          "output_type": "stream",
          "text": [
            "1\n",
            "[7.2 7.2 7.2 2.4]\n",
            "12.500000000000004\n",
            "1\n",
            "[7.2 7.2 7.2 2.4]\n",
            "12.500000000000004\n",
            "1\n",
            "[7.2 7.2 7.2 2.4]\n",
            "12.500000000000004\n",
            "1\n",
            "[8.  8.  8.  1.6]\n",
            "13.300000000000004\n",
            "1\n",
            "[8.8 7.2 8.8 0.8]\n",
            "14.100000000000005\n",
            "1\n",
            "[8.  8.  8.  1.6]\n",
            "14.900000000000006\n"
          ],
          "name": "stdout"
        }
      ]
    },
    {
      "cell_type": "markdown",
      "metadata": {
        "id": "3JF0Tv1Qe2ig"
      },
      "source": [
        "# Teste\n",
        "* A que classe pertencem os padrões 111, 000, 100 e 011?"
      ]
    },
    {
      "cell_type": "code",
      "metadata": {
        "id": "ZymsxG1XXbsH",
        "colab": {
          "base_uri": "https://localhost:8080/"
        },
        "outputId": "482dbb0a-39af-425a-d3bf-32ce7dfad022"
      },
      "source": [
        "# testar gato 1111 quadrupede 1\n",
        "T = np.array([1, 1, 1,1]) \n",
        "print(\"Saida para \",T,\" é \", saida(T,Pesos))"
      ],
      "execution_count": null,
      "outputs": [
        {
          "output_type": "stream",
          "text": [
            "Saida para  [1 1 1 1]  é  1\n"
          ],
          "name": "stdout"
        }
      ]
    },
    {
      "cell_type": "code",
      "metadata": {
        "id": "U_DhNESmfY0a",
        "colab": {
          "base_uri": "https://localhost:8080/"
        },
        "outputId": "d525725f-55ea-4913-e47c-c71c8e0aefb4"
      },
      "source": [
        "# testar homem -1 -1-1 1 bipede -1\n",
        "T = np.array([-1, -1, -1,1]) \n",
        "print(\"Saida para \",T,\" é \", saida(T,Pesos))"
      ],
      "execution_count": null,
      "outputs": [
        {
          "output_type": "stream",
          "text": [
            "Saida para  [-1 -1 -1  1]  é  -1\n"
          ],
          "name": "stdout"
        }
      ]
    }
  ]
}